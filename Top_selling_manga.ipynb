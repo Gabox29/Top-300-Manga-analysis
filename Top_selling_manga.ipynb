{
 "cells": [
  {
   "cell_type": "markdown",
   "id": "858b9485-9bae-4d6e-9faf-b9b1c7c1d807",
   "metadata": {},
   "source": [
    "# Dataset"
   ]
  },
  {
   "cell_type": "code",
   "execution_count": 2,
   "id": "6ef9a6ab-1708-4bf9-a948-10595481fc12",
   "metadata": {},
   "outputs": [],
   "source": [
    "import numpy as np\n",
    "import pandas as pd\n",
    "import requests\n",
    "from bs4 import BeautifulSoup as bs\n",
    "import re"
   ]
  },
  {
   "cell_type": "markdown",
   "id": "5968acf4-b376-48d0-b2fe-a92ed274dca3",
   "metadata": {},
   "source": [
    "### Wikipedia Dataset - Top Selling Manga"
   ]
  },
  {
   "cell_type": "code",
   "execution_count": 3,
   "id": "7a30ce1d-8f7c-4c6f-884f-94cce3505621",
   "metadata": {},
   "outputs": [],
   "source": [
    "url = \"https://en.wikipedia.org/wiki/List_of_best-selling_manga\"\n",
    "response = requests.get(url)"
   ]
  },
  {
   "cell_type": "code",
   "execution_count": 4,
   "id": "be040bb3-73dd-459f-b09d-8e6a39e36c5c",
   "metadata": {},
   "outputs": [],
   "source": [
    "html = response.content"
   ]
  },
  {
   "cell_type": "code",
   "execution_count": 5,
   "id": "5750be54-fab8-4f69-b419-3fd38da84379",
   "metadata": {},
   "outputs": [],
   "source": [
    "soup = bs(html,\"lxml\")"
   ]
  },
  {
   "cell_type": "code",
   "execution_count": 6,
   "id": "e1e56ee0-4bbc-4885-937f-db6ee8661aaa",
   "metadata": {},
   "outputs": [],
   "source": [
    "wiki_tables = soup.select(\"table.wikitable.sortable\")\n",
    "\n",
    "# en el select también hubiera funcionado table.wikitable o table.sortable nada más, pero lo deje así porque es más explícito"
   ]
  },
  {
   "cell_type": "code",
   "execution_count": 14,
   "id": "3fb3f417-cd0f-4051-9985-c599b95ed383",
   "metadata": {},
   "outputs": [],
   "source": [
    "name = []\n",
    "author = []\n",
    "publi = []\n",
    "demo = []\n",
    "vol = []\n",
    "date = []\n",
    "sta = []\n",
    "sales = []\n",
    "\n",
    "for table in wiki_tables:\n",
    "    temp_name = [e.get_text().split(\"\\n\")[1] for e in table.select(\"tr\")[1:]]\n",
    "    name += temp_name\n",
    "    \n",
    "    temp_author = [e.get_text().split(\"\\n\")[2] for e in table.select(\"tr\")[1:]]\n",
    "    author += temp_author\n",
    "    \n",
    "    temp_publi = [e.get_text().split(\"\\n\")[3] for e in table.select(\"tr\")[1:]]\n",
    "    publi += temp_publi\n",
    "    \n",
    "    temp_demo = [e.get_text().split(\"\\n\")[4].replace(\"ō\",\"ou\") for e in table.select(\"tr\")[1:]] # multiples demographics think how to categorize it properly - Sazae-san\n",
    "    demo += temp_demo\n",
    "    \n",
    "    temp_vol = [e.get_text().split(\"\\n\")[5] for e in table.select(\"tr\")[1:]] # be careful one value is 32/35 change it - Shaman King\n",
    "    vol += temp_vol\n",
    "    \n",
    "    temp_date = [int(e.get_text().split(\"\\n\")[6][:4]) for e in table.select(\"tr\")[1:]]\n",
    "    date += temp_date\n",
    "    \n",
    "    temp_sta = [\"Publishing\" if \"present\" in e.get_text().split(\"\\n\")[6] else \"On Hiatus\" \n",
    "                if \"hiatus\" in e.get_text().split(\"\\n\")[6] else \"Finished\"\n",
    "                for e in table.select(\"tr\")[1:]]\n",
    "    sta += temp_sta\n",
    "    \n",
    "    temp_sales = [float(e.get_text().split(\"\\n\")[7].replace(\"\\xa0\",\" \").split(\" \")[0]) for e in table.select(\"tr\")[1:]]\n",
    "    # temp_sales = [float(re.sub(\"[^\\d+\\.?\\d+]\", \"\", e.get_text().split(\"\\n\")[7][:-10])) for e in wiki_tables[1].select(\"tr\")[1:]]\n",
    "    sales += temp_sales"
   ]
  },
  {
   "cell_type": "code",
   "execution_count": 15,
   "id": "1e235f74-26f6-4b1e-8683-bef766e38536",
   "metadata": {},
   "outputs": [],
   "source": [
    "data = {\"Name\": name,\n",
    "        \"Author\": author,\n",
    "        \"Publisher\": publi,\n",
    "        \"Demographic\": demo,\n",
    "        \"Num of Volumes\": vol,\n",
    "        \"Release Date\": date,\n",
    "        \"Status\": sta,\n",
    "        \"Sales of Vol\":sales\n",
    "       }\n",
    "\n",
    "df_best_selling_mangas = pd.DataFrame(data)"
   ]
  },
  {
   "cell_type": "code",
   "execution_count": 26,
   "id": "efbb749b-1871-432f-a78e-96f930f3555c",
   "metadata": {},
   "outputs": [
    {
     "data": {
      "text/html": [
       "<div>\n",
       "<style scoped>\n",
       "    .dataframe tbody tr th:only-of-type {\n",
       "        vertical-align: middle;\n",
       "    }\n",
       "\n",
       "    .dataframe tbody tr th {\n",
       "        vertical-align: top;\n",
       "    }\n",
       "\n",
       "    .dataframe thead th {\n",
       "        text-align: right;\n",
       "    }\n",
       "</style>\n",
       "<table border=\"1\" class=\"dataframe\">\n",
       "  <thead>\n",
       "    <tr style=\"text-align: right;\">\n",
       "      <th></th>\n",
       "      <th>Name</th>\n",
       "      <th>Author</th>\n",
       "      <th>Publisher</th>\n",
       "      <th>Demographic</th>\n",
       "      <th>Num of Volumes</th>\n",
       "      <th>Release Date</th>\n",
       "      <th>Status</th>\n",
       "      <th>Sales of Vol</th>\n",
       "    </tr>\n",
       "  </thead>\n",
       "  <tbody>\n",
       "    <tr>\n",
       "      <th>0</th>\n",
       "      <td>One Piece</td>\n",
       "      <td>Eiichiro Oda</td>\n",
       "      <td>Shueisha</td>\n",
       "      <td>Shounen</td>\n",
       "      <td>102</td>\n",
       "      <td>1997</td>\n",
       "      <td>Publishing</td>\n",
       "      <td>490.0</td>\n",
       "    </tr>\n",
       "    <tr>\n",
       "      <th>1</th>\n",
       "      <td>Dragon Ball</td>\n",
       "      <td>Akira Toriyama</td>\n",
       "      <td>Shueisha</td>\n",
       "      <td>Shounen</td>\n",
       "      <td>42</td>\n",
       "      <td>1984</td>\n",
       "      <td>Finished</td>\n",
       "      <td>300.0</td>\n",
       "    </tr>\n",
       "    <tr>\n",
       "      <th>2</th>\n",
       "      <td>Golgo 13</td>\n",
       "      <td>Takao Saito, Saito Production</td>\n",
       "      <td>Shogakukan</td>\n",
       "      <td>Seinen</td>\n",
       "      <td>203</td>\n",
       "      <td>1968</td>\n",
       "      <td>Publishing</td>\n",
       "      <td>300.0</td>\n",
       "    </tr>\n",
       "    <tr>\n",
       "      <th>3</th>\n",
       "      <td>Detective Conan</td>\n",
       "      <td>Gosho Aoyama</td>\n",
       "      <td>Shogakukan</td>\n",
       "      <td>Shounen</td>\n",
       "      <td>100</td>\n",
       "      <td>1994</td>\n",
       "      <td>Publishing</td>\n",
       "      <td>250.0</td>\n",
       "    </tr>\n",
       "    <tr>\n",
       "      <th>4</th>\n",
       "      <td>Doraemon</td>\n",
       "      <td>Fujiko F. Fujio</td>\n",
       "      <td>Shogakukan</td>\n",
       "      <td>Children</td>\n",
       "      <td>53</td>\n",
       "      <td>1969</td>\n",
       "      <td>Finished</td>\n",
       "      <td>250.0</td>\n",
       "    </tr>\n",
       "    <tr>\n",
       "      <th>...</th>\n",
       "      <td>...</td>\n",
       "      <td>...</td>\n",
       "      <td>...</td>\n",
       "      <td>...</td>\n",
       "      <td>...</td>\n",
       "      <td>...</td>\n",
       "      <td>...</td>\n",
       "      <td>...</td>\n",
       "    </tr>\n",
       "    <tr>\n",
       "      <th>172</th>\n",
       "      <td>Sukeban Deka</td>\n",
       "      <td>Shinji Wada</td>\n",
       "      <td>Hakusensha</td>\n",
       "      <td>Shoujo</td>\n",
       "      <td>22</td>\n",
       "      <td>1976</td>\n",
       "      <td>Finished</td>\n",
       "      <td>20.0</td>\n",
       "    </tr>\n",
       "    <tr>\n",
       "      <th>173</th>\n",
       "      <td>Swan</td>\n",
       "      <td>Kyoko Ariyoshi</td>\n",
       "      <td>Shueisha</td>\n",
       "      <td>Shoujo</td>\n",
       "      <td>21</td>\n",
       "      <td>1976</td>\n",
       "      <td>Finished</td>\n",
       "      <td>20.0</td>\n",
       "    </tr>\n",
       "    <tr>\n",
       "      <th>174</th>\n",
       "      <td>The Tale of Genji</td>\n",
       "      <td>Waki Yamato</td>\n",
       "      <td>Kodansha</td>\n",
       "      <td>Shoujo</td>\n",
       "      <td>13</td>\n",
       "      <td>1980</td>\n",
       "      <td>Finished</td>\n",
       "      <td>20.0</td>\n",
       "    </tr>\n",
       "    <tr>\n",
       "      <th>175</th>\n",
       "      <td>Tokyo Daigaku Monogatari</td>\n",
       "      <td>Tatsuya Egawa</td>\n",
       "      <td>Shogakukan</td>\n",
       "      <td>Seinen</td>\n",
       "      <td>34</td>\n",
       "      <td>1992</td>\n",
       "      <td>Finished</td>\n",
       "      <td>20.0</td>\n",
       "    </tr>\n",
       "    <tr>\n",
       "      <th>176</th>\n",
       "      <td>Weed</td>\n",
       "      <td>Yoshihiro Takahashi</td>\n",
       "      <td>Nihon Bungeisha</td>\n",
       "      <td>Seinen</td>\n",
       "      <td>60</td>\n",
       "      <td>1999</td>\n",
       "      <td>Finished</td>\n",
       "      <td>20.0</td>\n",
       "    </tr>\n",
       "  </tbody>\n",
       "</table>\n",
       "<p>177 rows × 8 columns</p>\n",
       "</div>"
      ],
      "text/plain": [
       "                         Name                         Author        Publisher  \\\n",
       "0                   One Piece                   Eiichiro Oda         Shueisha   \n",
       "1                 Dragon Ball                 Akira Toriyama         Shueisha   \n",
       "2                    Golgo 13  Takao Saito, Saito Production       Shogakukan   \n",
       "3             Detective Conan                   Gosho Aoyama       Shogakukan   \n",
       "4                    Doraemon                Fujiko F. Fujio       Shogakukan   \n",
       "..                        ...                            ...              ...   \n",
       "172              Sukeban Deka                    Shinji Wada       Hakusensha   \n",
       "173                      Swan                 Kyoko Ariyoshi         Shueisha   \n",
       "174         The Tale of Genji                    Waki Yamato         Kodansha   \n",
       "175  Tokyo Daigaku Monogatari                  Tatsuya Egawa       Shogakukan   \n",
       "176                      Weed            Yoshihiro Takahashi  Nihon Bungeisha   \n",
       "\n",
       "    Demographic  Num of Volumes  Release Date      Status  Sales of Vol  \n",
       "0       Shounen             102          1997  Publishing         490.0  \n",
       "1       Shounen              42          1984    Finished         300.0  \n",
       "2        Seinen             203          1968  Publishing         300.0  \n",
       "3       Shounen             100          1994  Publishing         250.0  \n",
       "4      Children              53          1969    Finished         250.0  \n",
       "..          ...             ...           ...         ...           ...  \n",
       "172      Shoujo              22          1976    Finished          20.0  \n",
       "173      Shoujo              21          1976    Finished          20.0  \n",
       "174      Shoujo              13          1980    Finished          20.0  \n",
       "175      Seinen              34          1992    Finished          20.0  \n",
       "176      Seinen              60          1999    Finished          20.0  \n",
       "\n",
       "[177 rows x 8 columns]"
      ]
     },
     "execution_count": 26,
     "metadata": {},
     "output_type": "execute_result"
    }
   ],
   "source": [
    "df_best_selling_mangas"
   ]
  },
  {
   "cell_type": "code",
   "execution_count": 16,
   "id": "87230624-585e-4e96-b0e8-5855da1a5bed",
   "metadata": {},
   "outputs": [
    {
     "data": {
      "text/plain": [
       "Name               object\n",
       "Author             object\n",
       "Publisher          object\n",
       "Demographic        object\n",
       "Num of Volumes     object\n",
       "Release Date        int64\n",
       "Status             object\n",
       "Sales of Vol      float64\n",
       "dtype: object"
      ]
     },
     "execution_count": 16,
     "metadata": {},
     "output_type": "execute_result"
    }
   ],
   "source": [
    "df_best_selling_mangas.dtypes"
   ]
  },
  {
   "cell_type": "code",
   "execution_count": 21,
   "id": "eca97055-1a1e-49b4-ac14-19b8ce8a6079",
   "metadata": {},
   "outputs": [],
   "source": [
    "df_best_selling_mangas.loc[20, \"Demographic\"] = \"Children\"\n",
    "\n",
    "df_best_selling_mangas.loc[73,\"Num of Volumes\"] = \"35\""
   ]
  },
  {
   "cell_type": "code",
   "execution_count": 22,
   "id": "95a0eadc-8414-4181-85bd-db5f0f1cfccf",
   "metadata": {},
   "outputs": [
    {
     "data": {
      "text/plain": [
       "Name               object\n",
       "Author             object\n",
       "Publisher          object\n",
       "Demographic        object\n",
       "Num of Volumes      int64\n",
       "Release Date        int64\n",
       "Status             object\n",
       "Sales of Vol      float64\n",
       "dtype: object"
      ]
     },
     "execution_count": 22,
     "metadata": {},
     "output_type": "execute_result"
    }
   ],
   "source": [
    "df_best_selling_mangas[\"Num of Volumes\"] = df_best_selling_mangas[\"Num of Volumes\"].astype(\"int64\")\n",
    "\n",
    "df_best_selling_mangas.dtypes"
   ]
  },
  {
   "cell_type": "code",
   "execution_count": 23,
   "id": "142aa623-dcb3-4f93-b3b5-e6d623ffd8d3",
   "metadata": {},
   "outputs": [],
   "source": [
    "df_best_selling_mangas.to_csv(\"Wiki_Top_selling_manga.csv\",index=False)\n",
    "\n",
    "# Sales are in million"
   ]
  },
  {
   "cell_type": "markdown",
   "id": "467006fd-a3d9-440c-b601-0f3cabe87038",
   "metadata": {},
   "source": [
    "---\n",
    "---\n",
    "---\n",
    "# Puras Perrerías a partir de este punto"
   ]
  },
  {
   "cell_type": "code",
   "execution_count": 174,
   "id": "e8670b79-223d-4494-92c5-438d439610fa",
   "metadata": {
    "tags": []
   },
   "outputs": [],
   "source": [
    "# name\n",
    "# author\n",
    "# publi\n",
    "# demo\n",
    "# vol\n",
    "# date\n",
    "# sta\n",
    "# sales"
   ]
  },
  {
   "cell_type": "markdown",
   "id": "b9ed08c6-535b-4f1d-ad36-1901765f4996",
   "metadata": {},
   "source": [
    "---\n",
    "---\n",
    "---"
   ]
  },
  {
   "cell_type": "code",
   "execution_count": 19,
   "id": "f5cc55f1-ab6d-4932-9cb9-bd4151412c7f",
   "metadata": {},
   "outputs": [],
   "source": [
    "prueba = [float(e.get_text().split(\"\\n\")[7].replace(\"\\xa0\",\" \").split(\" \")[0]) for e in wiki_tables[1].select(\"tr\")[1:]]\n",
    "# prueba"
   ]
  },
  {
   "cell_type": "code",
   "execution_count": 17,
   "id": "168097d9-6524-4352-879e-4e6da35414db",
   "metadata": {},
   "outputs": [
    {
     "data": {
      "text/plain": [
       "['96',\n",
       " '87',\n",
       " '86',\n",
       " '85',\n",
       " '82',\n",
       " '80',\n",
       " '80',\n",
       " '80',\n",
       " '79',\n",
       " '77',\n",
       " '72',\n",
       " '72',\n",
       " '65',\n",
       " '65',\n",
       " '61',\n",
       " '60.5',\n",
       " '60',\n",
       " '60',\n",
       " '55.5',\n",
       " '55',\n",
       " '55',\n",
       " '55',\n",
       " '55',\n",
       " '53',\n",
       " '50',\n",
       " '50',\n",
       " '50',\n",
       " '50',\n",
       " '50',\n",
       " '50',\n",
       " '50',\n",
       " '50',\n",
       " '50',\n",
       " '50',\n",
       " '50',\n",
       " '50',\n",
       " '50',\n",
       " '50']"
      ]
     },
     "execution_count": 17,
     "metadata": {},
     "output_type": "execute_result"
    }
   ],
   "source": [
    "prueba = [re.sub(\"[^\\d+\\.?\\d+]\", \"\", e.get_text().split(\"\\n\")[7][:-10]) for e in wiki_tables[1].select(\"tr\")[1:]]\n",
    "prueba\n",
    "\n",
    "# How can I include the \".\" in the regex pattern ??? "
   ]
  },
  {
   "cell_type": "code",
   "execution_count": 16,
   "id": "b6fbd1fe-4851-4b88-adef-ecf3784ec880",
   "metadata": {
    "tags": []
   },
   "outputs": [
    {
     "data": {
      "text/plain": [
       "['96',\n",
       " '87',\n",
       " '86',\n",
       " '85',\n",
       " '82',\n",
       " '80',\n",
       " '80',\n",
       " '80',\n",
       " '79',\n",
       " '77',\n",
       " '72',\n",
       " '72',\n",
       " '65',\n",
       " '65',\n",
       " '61',\n",
       " '605',\n",
       " '60',\n",
       " '60',\n",
       " '555',\n",
       " '55',\n",
       " '55',\n",
       " '55',\n",
       " '55',\n",
       " '53',\n",
       " '50',\n",
       " '50',\n",
       " '50',\n",
       " '50',\n",
       " '50',\n",
       " '50',\n",
       " '50',\n",
       " '50',\n",
       " '50',\n",
       " '50',\n",
       " '50',\n",
       " '50',\n",
       " '50',\n",
       " '50']"
      ]
     },
     "execution_count": 16,
     "metadata": {},
     "output_type": "execute_result"
    }
   ],
   "source": [
    "prueba = [re.sub(\"[^0-9]\", \"\", e.get_text().split(\"\\n\")[7][:-10]) for e in wiki_tables[1].select(\"tr\")[1:]]\n",
    "prueba\n",
    "\n",
    "# How can I include the \".\" in the regex pattern ??? "
   ]
  },
  {
   "cell_type": "code",
   "execution_count": 190,
   "id": "d6cc62ae-984f-4901-af69-ba34adcb3eae",
   "metadata": {},
   "outputs": [],
   "source": [
    "prueba = [e.get_text().split(\"\\n\")[7][:-10] for e in wiki_tables[3].select(\"tr\")[1:]]\n",
    "# prueba"
   ]
  },
  {
   "cell_type": "markdown",
   "id": "e5067f0f-8a5e-4bf3-bf16-396dcda3cad6",
   "metadata": {},
   "source": [
    "---"
   ]
  },
  {
   "cell_type": "code",
   "execution_count": 191,
   "id": "4737c6c0-9edf-4abf-9170-7246e826ad28",
   "metadata": {},
   "outputs": [],
   "source": [
    "prueba = [e.get_text().split(\"\\n\")[6] if e.get_text().split(\"\\n\")[6].split(\"–\")[1] != \"present\" else \"Publishing\" for e in wiki_tables[0].select(\"tr\")[1:]]\n",
    "# prueba\n",
    "\n",
    "# Jose Luis version"
   ]
  },
  {
   "cell_type": "code",
   "execution_count": 110,
   "id": "eb27ef98-be69-4778-87bd-baa63d52745d",
   "metadata": {},
   "outputs": [
    {
     "data": {
      "text/plain": [
       "True"
      ]
     },
     "execution_count": 110,
     "metadata": {},
     "output_type": "execute_result"
    }
   ],
   "source": [
    "a = \"present\"\n",
    "\"p\" in  a"
   ]
  },
  {
   "cell_type": "code",
   "execution_count": 134,
   "id": "3851c31f-363e-4ccf-a2d8-d4ed51ee61c9",
   "metadata": {},
   "outputs": [
    {
     "data": {
      "text/plain": [
       "['Publishing',\n",
       " 'Publishing',\n",
       " 'Finished',\n",
       " 'Publishing',\n",
       " 'Finished',\n",
       " 'Finished',\n",
       " 'Finished',\n",
       " 'Finished',\n",
       " 'Finished',\n",
       " 'Publishing',\n",
       " 'On Hiatus',\n",
       " 'Finished',\n",
       " 'Publishing',\n",
       " 'Finished',\n",
       " 'Finished',\n",
       " 'Finished',\n",
       " 'Publishing',\n",
       " 'Finished']"
      ]
     },
     "execution_count": 134,
     "metadata": {},
     "output_type": "execute_result"
    }
   ],
   "source": [
    "prueba = [\"Publishing\" if \"present\" in e.get_text().split(\"\\n\")[6] else \"On Hiatus\" \n",
    "          if \"hiatus\" in e.get_text().split(\"\\n\")[6] else \"Finished\"\n",
    "          for e in wiki_tables[0].select(\"tr\")[1:]]\n",
    "prueba"
   ]
  },
  {
   "cell_type": "code",
   "execution_count": 193,
   "id": "df52ef50-7120-46d6-98f3-0c4678133a85",
   "metadata": {},
   "outputs": [],
   "source": [
    "# wiki_tables[0].select(\"tr\")[1:]"
   ]
  },
  {
   "cell_type": "code",
   "execution_count": 10,
   "id": "ae7d5c5a-4ddf-44d4-abf8-533bf09f6e03",
   "metadata": {},
   "outputs": [
    {
     "data": {
      "text/plain": [
       "'\\nOne Piece\\nEiichiro Oda\\nShueisha\\nShōnen\\n102\\n1997–present\\n490 million[2][d]\\n\\n4.8 million\\n'"
      ]
     },
     "execution_count": 10,
     "metadata": {},
     "output_type": "execute_result"
    }
   ],
   "source": [
    "wiki_tables[0].select(\"tr\")[1].get_text()"
   ]
  },
  {
   "cell_type": "code",
   "execution_count": 133,
   "id": "a391c528-dde9-4e67-b8af-3e7465069d26",
   "metadata": {},
   "outputs": [
    {
     "data": {
      "text/plain": [
       "'490 million[2][d]'"
      ]
     },
     "execution_count": 133,
     "metadata": {},
     "output_type": "execute_result"
    }
   ],
   "source": [
    "wiki_tables[0].select(\"tr\")[1].get_text().split(\"\\n\")[7]"
   ]
  },
  {
   "cell_type": "markdown",
   "id": "3d1a23f5-fbcb-4137-957b-e55dde91f5aa",
   "metadata": {},
   "source": [
    "---\n",
    "---\n",
    "---"
   ]
  },
  {
   "cell_type": "code",
   "execution_count": 72,
   "id": "dd64896f-5003-4d92-92d3-0471830824b1",
   "metadata": {},
   "outputs": [],
   "source": [
    "bla = {\"uno\":[],\"dos\":[],\"tres\":[]}"
   ]
  },
  {
   "cell_type": "code",
   "execution_count": 73,
   "id": "3e1a3faa-0e5e-4791-a848-7abb5d045a54",
   "metadata": {},
   "outputs": [],
   "source": [
    "qummy = pd.DataFrame(bla )"
   ]
  },
  {
   "cell_type": "code",
   "execution_count": 74,
   "id": "5eae6a65-a9ad-492b-8d03-a2afb21a3cbd",
   "metadata": {},
   "outputs": [
    {
     "data": {
      "text/html": [
       "<div>\n",
       "<style scoped>\n",
       "    .dataframe tbody tr th:only-of-type {\n",
       "        vertical-align: middle;\n",
       "    }\n",
       "\n",
       "    .dataframe tbody tr th {\n",
       "        vertical-align: top;\n",
       "    }\n",
       "\n",
       "    .dataframe thead th {\n",
       "        text-align: right;\n",
       "    }\n",
       "</style>\n",
       "<table border=\"1\" class=\"dataframe\">\n",
       "  <thead>\n",
       "    <tr style=\"text-align: right;\">\n",
       "      <th></th>\n",
       "      <th>uno</th>\n",
       "      <th>dos</th>\n",
       "      <th>tres</th>\n",
       "    </tr>\n",
       "  </thead>\n",
       "  <tbody>\n",
       "  </tbody>\n",
       "</table>\n",
       "</div>"
      ],
      "text/plain": [
       "Empty DataFrame\n",
       "Columns: [uno, dos, tres]\n",
       "Index: []"
      ]
     },
     "execution_count": 74,
     "metadata": {},
     "output_type": "execute_result"
    }
   ],
   "source": [
    "qummy"
   ]
  },
  {
   "cell_type": "code",
   "execution_count": 75,
   "id": "f4e0b7eb-f01f-4889-a8e1-98c9f51ccdeb",
   "metadata": {},
   "outputs": [],
   "source": [
    "qummy.loc[0] = [\"bla\",\"bu\",29] "
   ]
  },
  {
   "cell_type": "code",
   "execution_count": 76,
   "id": "4dacbcae-da4b-44c2-b11b-fc5c81435e45",
   "metadata": {},
   "outputs": [
    {
     "data": {
      "text/html": [
       "<div>\n",
       "<style scoped>\n",
       "    .dataframe tbody tr th:only-of-type {\n",
       "        vertical-align: middle;\n",
       "    }\n",
       "\n",
       "    .dataframe tbody tr th {\n",
       "        vertical-align: top;\n",
       "    }\n",
       "\n",
       "    .dataframe thead th {\n",
       "        text-align: right;\n",
       "    }\n",
       "</style>\n",
       "<table border=\"1\" class=\"dataframe\">\n",
       "  <thead>\n",
       "    <tr style=\"text-align: right;\">\n",
       "      <th></th>\n",
       "      <th>uno</th>\n",
       "      <th>dos</th>\n",
       "      <th>tres</th>\n",
       "    </tr>\n",
       "  </thead>\n",
       "  <tbody>\n",
       "    <tr>\n",
       "      <th>0</th>\n",
       "      <td>bla</td>\n",
       "      <td>bu</td>\n",
       "      <td>29.0</td>\n",
       "    </tr>\n",
       "  </tbody>\n",
       "</table>\n",
       "</div>"
      ],
      "text/plain": [
       "   uno dos  tres\n",
       "0  bla  bu  29.0"
      ]
     },
     "execution_count": 76,
     "metadata": {},
     "output_type": "execute_result"
    }
   ],
   "source": [
    "qummy"
   ]
  }
 ],
 "metadata": {
  "kernelspec": {
   "display_name": "Python 3 (ipykernel)",
   "language": "python",
   "name": "python3"
  },
  "language_info": {
   "codemirror_mode": {
    "name": "ipython",
    "version": 3
   },
   "file_extension": ".py",
   "mimetype": "text/x-python",
   "name": "python",
   "nbconvert_exporter": "python",
   "pygments_lexer": "ipython3",
   "version": "3.9.7"
  },
  "vscode": {
   "interpreter": {
    "hash": "b7f22e608a9410c9a00adbb49e3cb6a72010c497ae6b30c9496ff58de178a89c"
   }
  }
 },
 "nbformat": 4,
 "nbformat_minor": 5
}
