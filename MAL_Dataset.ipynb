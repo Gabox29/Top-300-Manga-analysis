{
 "cells": [
  {
   "cell_type": "markdown",
   "id": "9fd9ea4a-cc40-42fd-84ab-090e0b0d7c41",
   "metadata": {},
   "source": [
    "# Dataset"
   ]
  },
  {
   "cell_type": "code",
   "execution_count": 1,
   "id": "f6e2aca2-4ccd-47ac-aed2-051b16cffb97",
   "metadata": {},
   "outputs": [],
   "source": [
    "import numpy as np\n",
    "import pandas as pd\n",
    "import requests\n",
    "from bs4 import BeautifulSoup as bs\n",
    "import re\n",
    "import time\n",
    "\n",
    "from selenium import webdriver\n",
    "from selenium.webdriver.common.by import By\n",
    "from selenium.webdriver.common.action_chains import ActionChains\n",
    "from webdriver_manager.chrome import ChromeDriverManager"
   ]
  },
  {
   "cell_type": "code",
   "execution_count": 2,
   "id": "7edb778c-0cda-4c4d-abc9-3d64b3d47704",
   "metadata": {},
   "outputs": [],
   "source": [
    "url_cate = \"https://myanimelist.net/anime/genre/info\"\n",
    "response = requests.get(url_cate)"
   ]
  },
  {
   "cell_type": "code",
   "execution_count": 3,
   "id": "04c91c41-d0a7-4da6-adf3-eead6f72f315",
   "metadata": {},
   "outputs": [],
   "source": [
    "html = response.content"
   ]
  },
  {
   "cell_type": "code",
   "execution_count": 4,
   "id": "c3a03415-3e66-4a9c-9594-b3f848ad58fb",
   "metadata": {},
   "outputs": [],
   "source": [
    "soup_cate = bs(html,\"lxml\")"
   ]
  },
  {
   "cell_type": "code",
   "execution_count": 5,
   "id": "d43c5e45-6e2e-4ac5-a83d-0a9aaf1f0967",
   "metadata": {},
   "outputs": [],
   "source": [
    "cate_all = [i.get_text() for i in soup_cate.select(\"ul li strong\")]\n",
    "\n",
    "check_genres = cate_all[:cate_all.index(\"Hentai\") + 1]\n",
    "check_themes = cate_all[cate_all.index(\"Hentai\") + 1: cate_all.index(\"Workplace\") + 1]\n",
    "check_demo = cate_all[cate_all.index(\"Workplace\") + 1:]"
   ]
  },
  {
   "cell_type": "markdown",
   "id": "3fc0ccc1-8b08-481f-a3e8-543f70f92fc6",
   "metadata": {},
   "source": [
    "---"
   ]
  },
  {
   "cell_type": "code",
   "execution_count": 8,
   "id": "f3b7197c-3b2f-4e39-bfbc-9bcd3315a28c",
   "metadata": {},
   "outputs": [
    {
     "name": "stderr",
     "output_type": "stream",
     "text": [
      "\n",
      "\n",
      "====== WebDriver manager ======\n",
      "Current google-chrome version is 106.0.5249\n",
      "Get LATEST chromedriver version for 106.0.5249 google-chrome\n",
      "There is no [win32] chromedriver for browser 106.0.5249 in cache\n",
      "Trying to download new driver from https://chromedriver.storage.googleapis.com/106.0.5249.61/chromedriver_win32.zip\n",
      "Driver has been saved in cache [C:\\Users\\gabri\\.wdm\\drivers\\chromedriver\\win32\\106.0.5249.61]\n",
      "C:\\Users\\gabri\\AppData\\Local\\Temp/ipykernel_15224/1503906442.py:1: DeprecationWarning: executable_path has been deprecated, please pass in a Service object\n",
      "  driver = webdriver.Chrome(ChromeDriverManager().install())\n"
     ]
    }
   ],
   "source": [
    "driver = webdriver.Chrome(ChromeDriverManager().install())"
   ]
  },
  {
   "cell_type": "code",
   "execution_count": 9,
   "id": "ed51e053-e732-4a90-b3be-6b96a83b930f",
   "metadata": {},
   "outputs": [],
   "source": [
    "url = \"https://myanimelist.net/topmanga.php?limit=0\"\n",
    "driver.get(url)"
   ]
  },
  {
   "cell_type": "code",
   "execution_count": 10,
   "id": "f2850646-d7ea-47c9-8fbb-204bec417b21",
   "metadata": {},
   "outputs": [],
   "source": [
    "Cookies = driver.find_element(by=By.XPATH, value=\"/html/body/div[1]/div/div/div/div[2]/div/button[3]\")\n",
    "Cookies.click()"
   ]
  },
  {
   "cell_type": "code",
   "execution_count": 11,
   "id": "00abfe81-e405-4f41-8ccb-8f24c8d79e22",
   "metadata": {},
   "outputs": [],
   "source": [
    "Terms = driver.find_element(by=By.CSS_SELECTOR, value=\"div.root.for-pc button\")\n",
    "Terms.click()"
   ]
  },
  {
   "cell_type": "code",
   "execution_count": null,
   "id": "7e933a35-bd26-4bb5-b859-2f6b9ceb9213",
   "metadata": {},
   "outputs": [
    {
     "name": "stdout",
     "output_type": "stream",
     "text": [
      "50\n"
     ]
    },
    {
     "ename": "KeyboardInterrupt",
     "evalue": "",
     "output_type": "error",
     "traceback": [
      "\u001b[1;31m---------------------------------------------------------------------------\u001b[0m",
      "\u001b[1;31mKeyboardInterrupt\u001b[0m                         Traceback (most recent call last)",
      "\u001b[1;32m~\\AppData\\Local\\Temp/ipykernel_24416/1975441141.py\u001b[0m in \u001b[0;36m<module>\u001b[1;34m\u001b[0m\n\u001b[0;32m     21\u001b[0m             \u001b[0mhover\u001b[0m \u001b[1;33m=\u001b[0m \u001b[0mActionChains\u001b[0m\u001b[1;33m(\u001b[0m\u001b[0mdriver\u001b[0m\u001b[1;33m)\u001b[0m\u001b[1;33m.\u001b[0m\u001b[0mmove_to_element\u001b[0m\u001b[1;33m(\u001b[0m\u001b[0mele\u001b[0m\u001b[1;33m)\u001b[0m\u001b[1;33m\u001b[0m\u001b[1;33m\u001b[0m\u001b[0m\n\u001b[0;32m     22\u001b[0m             \u001b[0mhover\u001b[0m\u001b[1;33m.\u001b[0m\u001b[0mperform\u001b[0m\u001b[1;33m(\u001b[0m\u001b[1;33m)\u001b[0m\u001b[1;33m\u001b[0m\u001b[1;33m\u001b[0m\u001b[0m\n\u001b[1;32m---> 23\u001b[1;33m             \u001b[0mtime\u001b[0m\u001b[1;33m.\u001b[0m\u001b[0msleep\u001b[0m\u001b[1;33m(\u001b[0m\u001b[1;36m0.2\u001b[0m\u001b[1;33m)\u001b[0m\u001b[1;33m\u001b[0m\u001b[1;33m\u001b[0m\u001b[0m\n\u001b[0m\u001b[0;32m     24\u001b[0m \u001b[1;33m\u001b[0m\u001b[0m\n\u001b[0;32m     25\u001b[0m         \u001b[0mtime\u001b[0m\u001b[1;33m.\u001b[0m\u001b[0msleep\u001b[0m\u001b[1;33m(\u001b[0m\u001b[1;36m1\u001b[0m\u001b[1;33m)\u001b[0m\u001b[1;33m\u001b[0m\u001b[1;33m\u001b[0m\u001b[0m\n",
      "\u001b[1;31mKeyboardInterrupt\u001b[0m: "
     ]
    }
   ],
   "source": [
    "name = []\n",
    "release_date = []\n",
    "status = []\n",
    "\n",
    "temp_demo = []\n",
    "demographic = []\n",
    "genres = []\n",
    "temp_themes = []\n",
    "themes = []\n",
    "\n",
    "\n",
    "score = []\n",
    "rank = []\n",
    "popularity = []\n",
    "\n",
    "for i in range(0,7):\n",
    "    full_data = False\n",
    "    while full_data == False:\n",
    "        element_to_hover_over = driver.find_elements(by=By.CLASS_NAME, value=\"hoverinfo_trigger.fs14\")\n",
    "        for ele in element_to_hover_over:\n",
    "            hover = ActionChains(driver).move_to_element(ele)\n",
    "            hover.perform()\n",
    "            time.sleep(0.2)\n",
    "        \n",
    "        time.sleep(1)\n",
    "        soup = bs(driver.page_source,\"lxml\")\n",
    "        \n",
    "        print(sum([i.select(\"span.dark_text\") == [] for i in soup.select(\"div.detail\")]))\n",
    "        \n",
    "        if sum([i.select(\"span.dark_text\") == [] for i in soup.select(\"div.detail\")]) == 0:\n",
    "            full_data = True\n",
    "    \n",
    "    temp_name = [i.get_text() for i in soup.select(\"h3\")[:-3]]\n",
    "    name += temp_name\n",
    "    \n",
    "    temp_date = [int(i.get_text().split(\"\\n\")[-1][-7:-3]) for i in soup.select(\"a.hovertitle\")]\n",
    "    release_date += temp_date\n",
    "    \n",
    "    temp_status = [i.get_text().split(\"\\n\") [i.get_text().split(\"\\n\").index(\"Status:\") + 1] for i in soup.select(\"div.detail\")]\n",
    "    status += temp_status\n",
    "    \n",
    "    for indi,i in enumerate(soup.select(\"div.detail\")):\n",
    "        for idx,ele in enumerate(i.get_text().split(\"\\n\")):\n",
    "            if ele == \"Demographic:\" or ele == \"Demographics:\":\n",
    "                temp_demo.append(i.get_text().split(\"\\n\")[idx+1])\n",
    "            \n",
    "        if len(temp_demo) == indi:\n",
    "            temp_demo.append(\"No Demo Tag\")\n",
    "        \n",
    "    clean_temp_demo = [re.sub(\"\\B\\s+|\\s+\\B\",\"\",i) for i in temp_demo]\n",
    "    demographic += clean_temp_demo\n",
    "    \n",
    "    temp_genres = [i.get_text().split(\"\\n\")[idx+1] for i in soup.select(\"div.detail\") \n",
    "                   for idx,ele in enumerate(i.get_text().split(\"\\n\")) \n",
    "                   if ele == \"Genre:\" or ele == \"Genres:\"]\n",
    "    clean_temp_genres = [re.sub(\"\\B\\s+|\\s+\\B\",\"\",i) for i in temp_genres]\n",
    "    genres += clean_temp_genres\n",
    "    \n",
    "    for indi,i in enumerate(soup.select(\"div.detail\")):\n",
    "        for idx,ele in enumerate(i.get_text().split(\"\\n\")):\n",
    "            if ele == \"Theme:\" or ele == \"Themes:\":\n",
    "                temp_themes.append(i.get_text().split(\"\\n\")[idx+1])\n",
    "            \n",
    "        if len(temp_themes) == indi:\n",
    "            temp_themes.append(\"No Th Tag\")\n",
    "        \n",
    "    clean_temp_themes = [re.sub(\"\\B\\s+|\\s+\\B\",\"\",i) for i in temp_themes]\n",
    "    themes += clean_temp_themes\n",
    "    \n",
    "    temp_score = [float(re.findall(\"\\d+\\.\\d*\",i.get_text())[0]) for i in soup.select(\"div.detail\")]\n",
    "    score += temp_score\n",
    "    \n",
    "    temp_rank = [int(re.findall(\"#(\\d+)\",i.get_text())[-2]) for i in soup.select(\"div.detail\")]\n",
    "    rank += temp_rank\n",
    "    \n",
    "    temp_popu = [int(re.findall(\"#(\\d+)\",i.get_text())[-1]) for i in soup.select(\"div.detail\")]\n",
    "    popularity += temp_popu\n",
    "    \n",
    "    \n",
    "    Next_50 = driver.find_element(by=By.CLASS_NAME, value=\"link-blue-box.next\")\n",
    "    Next_50.click()\n",
    "    time.sleep(1.5)"
   ]
  },
  {
   "cell_type": "markdown",
   "id": "3524c2a3-a54a-4dbc-b0b7-705e3b1b0801",
   "metadata": {},
   "source": [
    "## Semi- Automatic"
   ]
  },
  {
   "cell_type": "code",
   "execution_count": 12,
   "id": "565e27dd-637d-4911-bbd1-38ef1634b4d3",
   "metadata": {},
   "outputs": [],
   "source": [
    "name = []\n",
    "release_date = []\n",
    "status = []\n",
    "\n",
    "temp_demo = []\n",
    "demographic = []\n",
    "genres = []\n",
    "temp_themes = []\n",
    "themes = []\n",
    "\n",
    "\n",
    "score = []\n",
    "rank = []\n",
    "popularity = []"
   ]
  },
  {
   "cell_type": "code",
   "execution_count": 13,
   "id": "e5909079-9b4b-4ed2-8d83-3775c615133d",
   "metadata": {},
   "outputs": [],
   "source": [
    "url = \"https://myanimelist.net/topmanga.php?limit=0\"\n",
    "driver.get(url)"
   ]
  },
  {
   "cell_type": "code",
   "execution_count": 14,
   "id": "20bd6e03-d0b2-4a6e-9c9d-6116704a58be",
   "metadata": {},
   "outputs": [],
   "source": [
    "element_to_hover_over = driver.find_elements(by=By.CLASS_NAME, value=\"hoverinfo_trigger.fs14\")\n",
    "for ele in element_to_hover_over:\n",
    "    hover = ActionChains(driver).move_to_element(ele)\n",
    "    hover.perform()\n",
    "    time.sleep(0.2)"
   ]
  },
  {
   "cell_type": "code",
   "execution_count": 15,
   "id": "d0d5eb10-29a8-4fbe-acf3-af42f945976e",
   "metadata": {},
   "outputs": [],
   "source": [
    "soup = bs(driver.page_source,\"lxml\")"
   ]
  },
  {
   "cell_type": "code",
   "execution_count": 356,
   "id": "b008b34a-6b94-45f4-bcde-a62a78896abf",
   "metadata": {
    "tags": []
   },
   "outputs": [
    {
     "data": {
      "text/plain": [
       "[(0, False),\n",
       " (1, False),\n",
       " (2, False),\n",
       " (3, False),\n",
       " (4, False),\n",
       " (5, False),\n",
       " (6, False),\n",
       " (7, False),\n",
       " (8, False),\n",
       " (9, False),\n",
       " (10, False),\n",
       " (11, False),\n",
       " (12, False),\n",
       " (13, False),\n",
       " (14, False),\n",
       " (15, False),\n",
       " (16, False),\n",
       " (17, False),\n",
       " (18, False),\n",
       " (19, False),\n",
       " (20, False),\n",
       " (21, False),\n",
       " (22, False),\n",
       " (23, False),\n",
       " (24, False),\n",
       " (25, False),\n",
       " (26, False),\n",
       " (27, False),\n",
       " (28, False),\n",
       " (29, False),\n",
       " (30, False),\n",
       " (31, False),\n",
       " (32, False),\n",
       " (33, False),\n",
       " (34, False),\n",
       " (35, False),\n",
       " (36, False),\n",
       " (37, False),\n",
       " (38, False),\n",
       " (39, False),\n",
       " (40, False),\n",
       " (41, False),\n",
       " (42, False),\n",
       " (43, False),\n",
       " (44, False),\n",
       " (45, False),\n",
       " (46, False),\n",
       " (47, False),\n",
       " (48, False),\n",
       " (49, False)]"
      ]
     },
     "execution_count": 356,
     "metadata": {},
     "output_type": "execute_result"
    }
   ],
   "source": [
    "[(idx,i.select(\"span.dark_text\") == []) for idx,i in enumerate(soup.select(\"div.detail\"))]"
   ]
  },
  {
   "cell_type": "code",
   "execution_count": 363,
   "id": "907b140b-45c5-474e-a35e-297c2c60c9cb",
   "metadata": {},
   "outputs": [
    {
     "data": {
      "text/plain": [
       "0"
      ]
     },
     "execution_count": 363,
     "metadata": {},
     "output_type": "execute_result"
    }
   ],
   "source": [
    "sum([i.select(\"span.dark_text\") == [] for i in soup.select(\"div.detail\")])"
   ]
  },
  {
   "cell_type": "code",
   "execution_count": 365,
   "id": "44994a5a-8092-4951-9280-f379d1311e5e",
   "metadata": {},
   "outputs": [],
   "source": [
    "temp_name = [i.get_text() for i in soup.select(\"h3\")[:-3]]\n",
    "name += temp_name\n",
    "\n",
    "temp_date = [int(i.get_text().split(\"\\n\")[-1][-7:-3]) for i in soup.select(\"a.hovertitle\")]\n",
    "release_date += temp_date\n",
    "\n",
    "temp_status = [i.get_text().split(\"\\n\") [i.get_text().split(\"\\n\").index(\"Status:\") + 1] for i in soup.select(\"div.detail\")]\n",
    "status += temp_status\n",
    "\n",
    "temp_demo = []\n",
    "for indi,i in enumerate(soup.select(\"div.detail\")):\n",
    "    for idx,ele in enumerate(i.get_text().split(\"\\n\")):\n",
    "        if ele == \"Demographic:\" or ele == \"Demographics:\":\n",
    "            temp_demo.append(i.get_text().split(\"\\n\")[idx+1])\n",
    "\n",
    "    if len(temp_demo) == indi:\n",
    "        temp_demo.append(\"No Demo Tag\")\n",
    "\n",
    "clean_temp_demo = [re.sub(\"\\B\\s+|\\s+\\B\",\"\",i) for i in temp_demo]\n",
    "demographic += clean_temp_demo\n",
    "\n",
    "temp_genres = []\n",
    "for indi,i in enumerate(soup.select(\"div.detail\")):\n",
    "    for idx,ele in enumerate(i.get_text().split(\"\\n\")):\n",
    "        if ele == \"Genre:\" or ele == \"Genres:\":\n",
    "            temp_genres.append(i.get_text().split(\"\\n\")[idx+1])\n",
    "            \n",
    "    if len(temp_genres) == indi:\n",
    "        temp_genres.append(\"No Genre Tag\")\n",
    "        \n",
    "clean_temp_genres = [re.sub(\"\\B\\s+|\\s+\\B\",\"\",i) for i in temp_genres]\n",
    "genres += clean_temp_genres\n",
    "\n",
    "temp_themes = []\n",
    "for indi,i in enumerate(soup.select(\"div.detail\")):\n",
    "    for idx,ele in enumerate(i.get_text().split(\"\\n\")):\n",
    "        if ele == \"Theme:\" or ele == \"Themes:\":\n",
    "            temp_themes.append(i.get_text().split(\"\\n\")[idx+1])\n",
    "\n",
    "    if len(temp_themes) == indi:\n",
    "        temp_themes.append(\"No Th Tag\")\n",
    "\n",
    "clean_temp_themes = [re.sub(\"\\B\\s+|\\s+\\B\",\"\",i) for i in temp_themes]\n",
    "themes += clean_temp_themes\n",
    "\n",
    "temp_score = [float(re.findall(\"\\d+\\.\\d*\",i.get_text())[0]) for i in soup.select(\"div.detail\")]\n",
    "score += temp_score\n",
    "\n",
    "temp_rank = [int(re.findall(\"#(\\d+)\",i.get_text())[-2]) for i in soup.select(\"div.detail\")]\n",
    "rank += temp_rank\n",
    "\n",
    "temp_popu = [int(re.findall(\"#(\\d+)\",i.get_text())[-1]) for i in soup.select(\"div.detail\")]\n",
    "popularity += temp_popu"
   ]
  },
  {
   "cell_type": "code",
   "execution_count": 366,
   "id": "7b99fbd6-544d-4745-b748-ddae0b4f5a70",
   "metadata": {},
   "outputs": [
    {
     "name": "stdout",
     "output_type": "stream",
     "text": [
      "300\n",
      "300\n",
      "300\n",
      "50\n",
      "300\n",
      "300\n",
      "50\n",
      "300\n",
      "300\n",
      "300\n",
      "300\n"
     ]
    }
   ],
   "source": [
    "print(len(name))\n",
    "print(len(release_date))\n",
    "print(len(status))\n",
    "\n",
    "print(len(temp_demo))\n",
    "print(len(demographic))\n",
    "print(len(genres))\n",
    "print(len(temp_themes))\n",
    "print(len(themes))\n",
    "\n",
    "print(len(score))\n",
    "print(len(rank))\n",
    "print(len(popularity))"
   ]
  },
  {
   "cell_type": "code",
   "execution_count": 313,
   "id": "53abd47a-fb46-4c50-ac2b-76cd7bb9d4e7",
   "metadata": {},
   "outputs": [],
   "source": [
    "# demographic\n",
    "# themes"
   ]
  },
  {
   "cell_type": "code",
   "execution_count": null,
   "id": "919fce41-9291-4f09-a048-db8fb9906d9c",
   "metadata": {},
   "outputs": [],
   "source": []
  },
  {
   "cell_type": "code",
   "execution_count": 367,
   "id": "466d2184-a7a1-4000-a342-247da078477a",
   "metadata": {},
   "outputs": [],
   "source": [
    "data = {\"Name\": name,\n",
    "        \"Release_date\": release_date,\n",
    "        \"Status\": status,\n",
    "        \"Demographic\": demographic,\n",
    "        \"Genres\": genres,\n",
    "        \"Theme\": themes,\n",
    "        \"Score\": score,\n",
    "        \"Ranking\": rank,\n",
    "        \"Popularity\": popularity\n",
    "       }"
   ]
  },
  {
   "cell_type": "code",
   "execution_count": 368,
   "id": "d3b8b1b5-2e4a-4d98-9020-ad498aac670d",
   "metadata": {},
   "outputs": [],
   "source": [
    "Myanimelist_df = pd.DataFrame(data)"
   ]
  },
  {
   "cell_type": "code",
   "execution_count": 373,
   "id": "4ac63e2d-6c49-41ad-b452-a83e067b22c3",
   "metadata": {},
   "outputs": [
    {
     "data": {
      "text/html": [
       "<div>\n",
       "<style scoped>\n",
       "    .dataframe tbody tr th:only-of-type {\n",
       "        vertical-align: middle;\n",
       "    }\n",
       "\n",
       "    .dataframe tbody tr th {\n",
       "        vertical-align: top;\n",
       "    }\n",
       "\n",
       "    .dataframe thead th {\n",
       "        text-align: right;\n",
       "    }\n",
       "</style>\n",
       "<table border=\"1\" class=\"dataframe\">\n",
       "  <thead>\n",
       "    <tr style=\"text-align: right;\">\n",
       "      <th></th>\n",
       "      <th>Name</th>\n",
       "      <th>Release_date</th>\n",
       "      <th>Status</th>\n",
       "      <th>Demographic</th>\n",
       "      <th>Genres</th>\n",
       "      <th>Theme</th>\n",
       "      <th>Score</th>\n",
       "      <th>Ranking</th>\n",
       "      <th>Popularity</th>\n",
       "    </tr>\n",
       "  </thead>\n",
       "  <tbody>\n",
       "    <tr>\n",
       "      <th>0</th>\n",
       "      <td>Berserk</td>\n",
       "      <td>1989</td>\n",
       "      <td>On Hiatus</td>\n",
       "      <td>Seinen</td>\n",
       "      <td>Action,Adventure,Award Winning,Drama,Fantasy,H...</td>\n",
       "      <td>Gore,Military,Mythology,Psychological</td>\n",
       "      <td>9.44</td>\n",
       "      <td>1</td>\n",
       "      <td>2</td>\n",
       "    </tr>\n",
       "    <tr>\n",
       "      <th>1</th>\n",
       "      <td>JoJo no Kimyou na Bouken Part 7: Steel Ball Run</td>\n",
       "      <td>2004</td>\n",
       "      <td>Finished</td>\n",
       "      <td>Seinen,Shounen</td>\n",
       "      <td>Action,Adventure,Horror,Mystery,Supernatural</td>\n",
       "      <td>Historical</td>\n",
       "      <td>9.27</td>\n",
       "      <td>2</td>\n",
       "      <td>27</td>\n",
       "    </tr>\n",
       "    <tr>\n",
       "      <th>2</th>\n",
       "      <td>One Piece</td>\n",
       "      <td>1997</td>\n",
       "      <td>Publishing</td>\n",
       "      <td>Shounen</td>\n",
       "      <td>Action,Adventure,Fantasy</td>\n",
       "      <td>No Th Tag</td>\n",
       "      <td>9.19</td>\n",
       "      <td>3</td>\n",
       "      <td>3</td>\n",
       "    </tr>\n",
       "    <tr>\n",
       "      <th>3</th>\n",
       "      <td>Vagabond</td>\n",
       "      <td>1998</td>\n",
       "      <td>On Hiatus</td>\n",
       "      <td>Seinen</td>\n",
       "      <td>Action,Adventure,Award Winning,Drama</td>\n",
       "      <td>Historical,Samurai</td>\n",
       "      <td>9.18</td>\n",
       "      <td>4</td>\n",
       "      <td>16</td>\n",
       "    </tr>\n",
       "    <tr>\n",
       "      <th>4</th>\n",
       "      <td>Monster</td>\n",
       "      <td>1994</td>\n",
       "      <td>Finished</td>\n",
       "      <td>Seinen</td>\n",
       "      <td>Award Winning,Drama,Mystery</td>\n",
       "      <td>Adult Cast,Psychological</td>\n",
       "      <td>9.11</td>\n",
       "      <td>5</td>\n",
       "      <td>31</td>\n",
       "    </tr>\n",
       "    <tr>\n",
       "      <th>...</th>\n",
       "      <td>...</td>\n",
       "      <td>...</td>\n",
       "      <td>...</td>\n",
       "      <td>...</td>\n",
       "      <td>...</td>\n",
       "      <td>...</td>\n",
       "      <td>...</td>\n",
       "      <td>...</td>\n",
       "      <td>...</td>\n",
       "    </tr>\n",
       "    <tr>\n",
       "      <th>295</th>\n",
       "      <td>Sweet Home</td>\n",
       "      <td>2017</td>\n",
       "      <td>Finished</td>\n",
       "      <td>No Demo Tag</td>\n",
       "      <td>Action,Drama,Horror,Suspense</td>\n",
       "      <td>Gore</td>\n",
       "      <td>8.29</td>\n",
       "      <td>296</td>\n",
       "      <td>238</td>\n",
       "    </tr>\n",
       "    <tr>\n",
       "      <th>296</th>\n",
       "      <td>Paradise Kiss</td>\n",
       "      <td>1999</td>\n",
       "      <td>Finished</td>\n",
       "      <td>Josei</td>\n",
       "      <td>Drama,Romance</td>\n",
       "      <td>School,Visual Arts</td>\n",
       "      <td>8.28</td>\n",
       "      <td>297</td>\n",
       "      <td>332</td>\n",
       "    </tr>\n",
       "    <tr>\n",
       "      <th>297</th>\n",
       "      <td>Eden: It's an Endless World!</td>\n",
       "      <td>1997</td>\n",
       "      <td>Finished</td>\n",
       "      <td>Seinen</td>\n",
       "      <td>Action,Drama,Sci-Fi</td>\n",
       "      <td>Psychological</td>\n",
       "      <td>8.28</td>\n",
       "      <td>298</td>\n",
       "      <td>268</td>\n",
       "    </tr>\n",
       "    <tr>\n",
       "      <th>298</th>\n",
       "      <td>Black Lagoon</td>\n",
       "      <td>2002</td>\n",
       "      <td>Publishing</td>\n",
       "      <td>Seinen</td>\n",
       "      <td>Action,Drama</td>\n",
       "      <td>Adult Cast,Military,Organized Crime</td>\n",
       "      <td>8.28</td>\n",
       "      <td>299</td>\n",
       "      <td>303</td>\n",
       "    </tr>\n",
       "    <tr>\n",
       "      <th>299</th>\n",
       "      <td>Saiyuuki Gaiden</td>\n",
       "      <td>1999</td>\n",
       "      <td>Finished</td>\n",
       "      <td>No Demo Tag</td>\n",
       "      <td>Action,Adventure,Fantasy</td>\n",
       "      <td>No Th Tag</td>\n",
       "      <td>8.28</td>\n",
       "      <td>300</td>\n",
       "      <td>1582</td>\n",
       "    </tr>\n",
       "  </tbody>\n",
       "</table>\n",
       "<p>300 rows × 9 columns</p>\n",
       "</div>"
      ],
      "text/plain": [
       "                                                Name  Release_date  \\\n",
       "0                                            Berserk          1989   \n",
       "1    JoJo no Kimyou na Bouken Part 7: Steel Ball Run          2004   \n",
       "2                                          One Piece          1997   \n",
       "3                                           Vagabond          1998   \n",
       "4                                            Monster          1994   \n",
       "..                                               ...           ...   \n",
       "295                                       Sweet Home          2017   \n",
       "296                                    Paradise Kiss          1999   \n",
       "297                     Eden: It's an Endless World!          1997   \n",
       "298                                     Black Lagoon          2002   \n",
       "299                                  Saiyuuki Gaiden          1999   \n",
       "\n",
       "         Status     Demographic  \\\n",
       "0     On Hiatus          Seinen   \n",
       "1      Finished  Seinen,Shounen   \n",
       "2    Publishing         Shounen   \n",
       "3     On Hiatus          Seinen   \n",
       "4      Finished          Seinen   \n",
       "..          ...             ...   \n",
       "295    Finished     No Demo Tag   \n",
       "296    Finished           Josei   \n",
       "297    Finished          Seinen   \n",
       "298  Publishing          Seinen   \n",
       "299    Finished     No Demo Tag   \n",
       "\n",
       "                                                Genres  \\\n",
       "0    Action,Adventure,Award Winning,Drama,Fantasy,H...   \n",
       "1         Action,Adventure,Horror,Mystery,Supernatural   \n",
       "2                             Action,Adventure,Fantasy   \n",
       "3                 Action,Adventure,Award Winning,Drama   \n",
       "4                          Award Winning,Drama,Mystery   \n",
       "..                                                 ...   \n",
       "295                       Action,Drama,Horror,Suspense   \n",
       "296                                      Drama,Romance   \n",
       "297                                Action,Drama,Sci-Fi   \n",
       "298                                       Action,Drama   \n",
       "299                           Action,Adventure,Fantasy   \n",
       "\n",
       "                                     Theme  Score  Ranking  Popularity  \n",
       "0    Gore,Military,Mythology,Psychological   9.44        1           2  \n",
       "1                               Historical   9.27        2          27  \n",
       "2                                No Th Tag   9.19        3           3  \n",
       "3                       Historical,Samurai   9.18        4          16  \n",
       "4                 Adult Cast,Psychological   9.11        5          31  \n",
       "..                                     ...    ...      ...         ...  \n",
       "295                                   Gore   8.29      296         238  \n",
       "296                     School,Visual Arts   8.28      297         332  \n",
       "297                          Psychological   8.28      298         268  \n",
       "298    Adult Cast,Military,Organized Crime   8.28      299         303  \n",
       "299                              No Th Tag   8.28      300        1582  \n",
       "\n",
       "[300 rows x 9 columns]"
      ]
     },
     "execution_count": 373,
     "metadata": {},
     "output_type": "execute_result"
    }
   ],
   "source": [
    "Myanimelist_df"
   ]
  },
  {
   "cell_type": "code",
   "execution_count": 406,
   "id": "5dfa4a4b-5791-4b38-a397-8a72fe7e5be0",
   "metadata": {},
   "outputs": [
    {
     "data": {
      "text/plain": [
       "Series([], Name: Score, dtype: float64)"
      ]
     },
     "execution_count": 406,
     "metadata": {},
     "output_type": "execute_result"
    }
   ],
   "source": [
    "Myanimelist_df[\"Score\"][Myanimelist_df[\"Score\"] < 8]"
   ]
  },
  {
   "cell_type": "code",
   "execution_count": 407,
   "id": "dec0af28-f616-429b-8e50-b51a80c77605",
   "metadata": {},
   "outputs": [],
   "source": [
    "Myanimelist_df.to_csv(\"Myanimelist_df.csv\", index = False)"
   ]
  },
  {
   "cell_type": "markdown",
   "id": "7400e0df-bff7-4b80-945c-eba2aacbb369",
   "metadata": {},
   "source": [
    "---\n",
    "---\n",
    "---\n",
    "---\n",
    "---\n",
    "\n",
    "# Puras Perrerías"
   ]
  },
  {
   "cell_type": "code",
   "execution_count": 109,
   "id": "a25332ec-d6ba-421d-a3af-f6f51a11ec7e",
   "metadata": {
    "tags": []
   },
   "outputs": [],
   "source": [
    "temp_name = [i.get_text() for i in soup.select(\"h3\")[:-3]]\n",
    "# temp_name"
   ]
  },
  {
   "cell_type": "code",
   "execution_count": 110,
   "id": "d6824494-a189-44f2-b08f-7d21b9cef85d",
   "metadata": {
    "tags": []
   },
   "outputs": [
    {
     "data": {
      "text/plain": [
       "50"
      ]
     },
     "execution_count": 110,
     "metadata": {},
     "output_type": "execute_result"
    }
   ],
   "source": [
    "temp_date = [int(i.get_text().split(\"\\n\")[-1][-7:-3]) for i in soup.select(\"a.hovertitle\")]\n",
    "len(temp_date)"
   ]
  },
  {
   "cell_type": "code",
   "execution_count": 380,
   "id": "079ca480-39be-4d68-bc68-eefb04e7d425",
   "metadata": {},
   "outputs": [],
   "source": [
    "# soup.select(\"div.detail\")[1]"
   ]
  },
  {
   "cell_type": "code",
   "execution_count": 111,
   "id": "2dc12fcd-78fa-4d0b-b874-cc37de737beb",
   "metadata": {
    "tags": []
   },
   "outputs": [
    {
     "data": {
      "text/plain": [
       "50"
      ]
     },
     "execution_count": 111,
     "metadata": {},
     "output_type": "execute_result"
    }
   ],
   "source": [
    "temp_status = [i.get_text().split(\"\\n\") [i.get_text().split(\"\\n\").index(\"Status:\") + 1] for i in soup.select(\"div.detail\")]\n",
    "len(temp_status)"
   ]
  },
  {
   "cell_type": "markdown",
   "id": "ec083930-d589-4da4-acc3-fed512949a79",
   "metadata": {},
   "source": [
    "---"
   ]
  },
  {
   "cell_type": "markdown",
   "id": "b9a75666-ad9c-4a26-b37b-e1dd545b5552",
   "metadata": {},
   "source": [
    "---"
   ]
  },
  {
   "cell_type": "code",
   "execution_count": 328,
   "id": "fb55db32-2e63-49f8-8d70-564855aade68",
   "metadata": {
    "tags": []
   },
   "outputs": [],
   "source": [
    "temp_demo = []\n",
    "for indi,i in enumerate(soup.select(\"div.detail\")):\n",
    "    for idx,ele in enumerate(i.get_text().split(\"\\n\")):\n",
    "        if ele == \"Demographic:\" or ele == \"Demographics:\":\n",
    "            temp_demo.append(i.get_text().split(\"\\n\")[idx+1])\n",
    "            \n",
    "    if len(temp_demo) == indi:\n",
    "        temp_demo.append(\"No Demo Tag\")\n",
    "        \n",
    "clean_temp_demo = [re.sub(\"\\B\\s+|\\s+\\B\",\"\",i) for i in temp_demo]\n",
    "# clean_temp_demo"
   ]
  },
  {
   "cell_type": "code",
   "execution_count": 340,
   "id": "438656b3-e34c-4363-ab5f-6c1724eafb3d",
   "metadata": {
    "tags": []
   },
   "outputs": [],
   "source": [
    "temp_genres = []\n",
    "for indi,i in enumerate(soup.select(\"div.detail\")):\n",
    "    for idx,ele in enumerate(i.get_text().split(\"\\n\")):\n",
    "        if ele == \"Genre:\" or ele == \"Genres:\":\n",
    "            temp_genres.append(i.get_text().split(\"\\n\")[idx+1])\n",
    "            \n",
    "    if len(temp_genres) == indi:\n",
    "        temp_genres.append(\"No Genre Tag\")\n",
    "        \n",
    "clean_temp_genres = [re.sub(\"\\B\\s+|\\s+\\B\",\"\",i) for i in temp_genres] \n",
    "genres += clean_temp_genres"
   ]
  },
  {
   "cell_type": "code",
   "execution_count": 260,
   "id": "69c58363-4133-4bd1-8d52-bf79bf18fc57",
   "metadata": {
    "tags": []
   },
   "outputs": [
    {
     "data": {
      "text/plain": [
       "['Iyashikei',\n",
       " 'No Th Tag',\n",
       " 'Gore',\n",
       " 'Iyashikei',\n",
       " 'School',\n",
       " 'School',\n",
       " 'Combat Sports',\n",
       " 'Music',\n",
       " 'Gore',\n",
       " 'Childcare',\n",
       " 'Historical,Samurai',\n",
       " 'School',\n",
       " 'Isekai,Video Game',\n",
       " 'No Th Tag',\n",
       " 'No Th Tag',\n",
       " 'No Th Tag',\n",
       " 'Delinquents',\n",
       " 'Super Power',\n",
       " 'No Th Tag',\n",
       " 'No Th Tag',\n",
       " 'Iyashikei',\n",
       " 'Psychological',\n",
       " 'Isekai,Parody,Reincarnation',\n",
       " 'Gag Humor,Historical,Parody,Samurai',\n",
       " 'Mecha,Psychological',\n",
       " 'Super Power',\n",
       " 'School',\n",
       " 'Music,School',\n",
       " 'No Th Tag',\n",
       " 'Music',\n",
       " 'Historical',\n",
       " 'School',\n",
       " 'Isekai,Reincarnation',\n",
       " 'Psychological',\n",
       " 'Love Polygon,Showbiz',\n",
       " 'No Th Tag',\n",
       " 'Gore,Military,Survival',\n",
       " 'Historical,Samurai',\n",
       " 'Adult Cast,Psychological,Team Sports',\n",
       " 'Music,Psychological',\n",
       " 'No Th Tag',\n",
       " 'School',\n",
       " 'No Th Tag',\n",
       " 'Mecha,Psychological',\n",
       " 'Organized Crime',\n",
       " 'School',\n",
       " 'Historical',\n",
       " 'Historical,Psychological,Space',\n",
       " 'School,Team Sports',\n",
       " 'Memoir']"
      ]
     },
     "execution_count": 260,
     "metadata": {},
     "output_type": "execute_result"
    }
   ],
   "source": [
    "temp_themes = []\n",
    "for indi,i in enumerate(soup.select(\"div.detail\")):\n",
    "    for idx,ele in enumerate(i.get_text().split(\"\\n\")):\n",
    "        if ele == \"Theme:\" or ele == \"Themes:\":\n",
    "            temp_themes.append(i.get_text().split(\"\\n\")[idx+1])\n",
    "            \n",
    "    if len(temp_themes) == indi:\n",
    "        temp_themes.append(\"No Th Tag\")\n",
    "        \n",
    "clean_temp_themes = [re.sub(\"\\B\\s+|\\s+\\B\",\"\",i) for i in temp_themes]\n",
    "clean_temp_themes"
   ]
  },
  {
   "cell_type": "markdown",
   "id": "5ccdfdd8-8f5b-4de1-9b34-00e1d6f7ef5c",
   "metadata": {},
   "source": [
    "---"
   ]
  },
  {
   "cell_type": "code",
   "execution_count": 385,
   "id": "81aca076-f1dd-4e1e-af72-54f11bed669b",
   "metadata": {
    "tags": []
   },
   "outputs": [],
   "source": [
    "temp_score = [re.findall(\"\\d+\\.\\d*\",i.get_text()) for i in soup.select(\"div.detail\")]\n",
    "# temp_score"
   ]
  },
  {
   "cell_type": "code",
   "execution_count": 266,
   "id": "a1c37f1f-cdb5-44c3-ad76-100bb85b8037",
   "metadata": {
    "collapsed": true,
    "jupyter": {
     "outputs_hidden": true
    },
    "tags": []
   },
   "outputs": [
    {
     "data": {
      "text/plain": [
       "[1,\n",
       " 2,\n",
       " 3,\n",
       " 4,\n",
       " 5,\n",
       " 6,\n",
       " 7,\n",
       " 8,\n",
       " 9,\n",
       " 10,\n",
       " 11,\n",
       " 12,\n",
       " 13,\n",
       " 14,\n",
       " 15,\n",
       " 16,\n",
       " 17,\n",
       " 18,\n",
       " 19,\n",
       " 20,\n",
       " 21,\n",
       " 22,\n",
       " 23,\n",
       " 24,\n",
       " 25,\n",
       " 26,\n",
       " 27,\n",
       " 28,\n",
       " 29,\n",
       " 30,\n",
       " 31,\n",
       " 32,\n",
       " 33,\n",
       " 34,\n",
       " 35,\n",
       " 36,\n",
       " 37,\n",
       " 38,\n",
       " 39,\n",
       " 40,\n",
       " 41,\n",
       " 42,\n",
       " 43,\n",
       " 44,\n",
       " 45,\n",
       " 46,\n",
       " 47,\n",
       " 48,\n",
       " 49,\n",
       " 50]"
      ]
     },
     "execution_count": 266,
     "metadata": {},
     "output_type": "execute_result"
    }
   ],
   "source": [
    "temp_rank = [int(re.findall(\"#(\\d+)\",i.get_text())[-2]) for i in soup.select(\"div.detail\")]"
   ]
  },
  {
   "cell_type": "code",
   "execution_count": 269,
   "id": "4c44dce1-df2b-4bc8-a537-31007bc228b7",
   "metadata": {
    "collapsed": true,
    "jupyter": {
     "outputs_hidden": true
    },
    "tags": []
   },
   "outputs": [
    {
     "data": {
      "text/plain": [
       "[2,\n",
       " 27,\n",
       " 3,\n",
       " 16,\n",
       " 31,\n",
       " 18,\n",
       " 67,\n",
       " 12,\n",
       " 52,\n",
       " 22,\n",
       " 60,\n",
       " 249,\n",
       " 29,\n",
       " 341,\n",
       " 122,\n",
       " 744,\n",
       " 230,\n",
       " 26,\n",
       " 655,\n",
       " 1475,\n",
       " 196,\n",
       " 57,\n",
       " 192,\n",
       " 65,\n",
       " 21,\n",
       " 220,\n",
       " 32,\n",
       " 952,\n",
       " 77,\n",
       " 266,\n",
       " 188,\n",
       " 70,\n",
       " 69,\n",
       " 500,\n",
       " 1285,\n",
       " 478,\n",
       " 217,\n",
       " 93,\n",
       " 427,\n",
       " 107,\n",
       " 198,\n",
       " 9,\n",
       " 168,\n",
       " 6,\n",
       " 111,\n",
       " 5,\n",
       " 269,\n",
       " 425,\n",
       " 206,\n",
       " 10]"
      ]
     },
     "execution_count": 269,
     "metadata": {},
     "output_type": "execute_result"
    }
   ],
   "source": [
    "temp_popu = [int(re.findall(\"#(\\d+)\",i.get_text())[-1]) for i in soup.select(\"div.detail\")]"
   ]
  },
  {
   "cell_type": "markdown",
   "id": "897532ea-480f-448d-8102-a806638afb07",
   "metadata": {},
   "source": [
    "---"
   ]
  },
  {
   "cell_type": "markdown",
   "id": "567c9f5b-16fe-4f41-8978-afcf57f983ba",
   "metadata": {},
   "source": [
    "---"
   ]
  },
  {
   "cell_type": "markdown",
   "id": "0ac3a1ff-bc40-4d47-a43b-65b2e51482e1",
   "metadata": {},
   "source": [
    "---"
   ]
  },
  {
   "cell_type": "markdown",
   "id": "78c4c88b-cc5c-4c38-8ec6-a75e95468f82",
   "metadata": {},
   "source": [
    "### Pure Tests"
   ]
  },
  {
   "cell_type": "code",
   "execution_count": 134,
   "id": "bbaf9479-8201-4aa7-946b-dfccb1822d56",
   "metadata": {},
   "outputs": [
    {
     "data": {
      "text/plain": [
       "['              Award Winning,       Comedy']"
      ]
     },
     "execution_count": 134,
     "metadata": {},
     "output_type": "execute_result"
    }
   ],
   "source": [
    "[soup.select(\"div.detail\")[17].get_text().split(\"\\n\")[idx+1] for idx,ele in enumerate(soup.select(\"div.detail\")[17].get_text().split(\"\\n\")) if ele == \"Genre:\" or ele == \"Genres:\"]"
   ]
  },
  {
   "cell_type": "code",
   "execution_count": 107,
   "id": "b4586e85-22bb-4c36-87ff-c57176831be9",
   "metadata": {},
   "outputs": [
    {
     "ename": "ValueError",
     "evalue": "'Demographic:' is not in list",
     "output_type": "error",
     "traceback": [
      "\u001b[1;31m---------------------------------------------------------------------------\u001b[0m",
      "\u001b[1;31mValueError\u001b[0m                                Traceback (most recent call last)",
      "\u001b[1;32m~\\AppData\\Local\\Temp/ipykernel_8540/2572924199.py\u001b[0m in \u001b[0;36m<module>\u001b[1;34m\u001b[0m\n\u001b[1;32m----> 1\u001b[1;33m \u001b[0msoup\u001b[0m\u001b[1;33m.\u001b[0m\u001b[0mselect\u001b[0m\u001b[1;33m(\u001b[0m\u001b[1;34m\"div.detail\"\u001b[0m\u001b[1;33m)\u001b[0m\u001b[1;33m[\u001b[0m\u001b[1;36m1\u001b[0m\u001b[1;33m]\u001b[0m\u001b[1;33m.\u001b[0m\u001b[0mget_text\u001b[0m\u001b[1;33m(\u001b[0m\u001b[1;33m)\u001b[0m\u001b[1;33m.\u001b[0m\u001b[0msplit\u001b[0m\u001b[1;33m(\u001b[0m\u001b[1;34m\"\\n\"\u001b[0m\u001b[1;33m)\u001b[0m \u001b[1;33m[\u001b[0m\u001b[0msoup\u001b[0m\u001b[1;33m.\u001b[0m\u001b[0mselect\u001b[0m\u001b[1;33m(\u001b[0m\u001b[1;34m\"div.detail\"\u001b[0m\u001b[1;33m)\u001b[0m\u001b[1;33m[\u001b[0m\u001b[1;36m1\u001b[0m\u001b[1;33m]\u001b[0m\u001b[1;33m.\u001b[0m\u001b[0mget_text\u001b[0m\u001b[1;33m(\u001b[0m\u001b[1;33m)\u001b[0m\u001b[1;33m.\u001b[0m\u001b[0msplit\u001b[0m\u001b[1;33m(\u001b[0m\u001b[1;34m\"\\n\"\u001b[0m\u001b[1;33m)\u001b[0m\u001b[1;33m.\u001b[0m\u001b[0mindex\u001b[0m\u001b[1;33m(\u001b[0m\u001b[1;34m\"Demographic:\"\u001b[0m \u001b[1;32mor\u001b[0m \u001b[1;34m\"Demographics:\"\u001b[0m\u001b[1;33m)\u001b[0m \u001b[1;33m+\u001b[0m \u001b[1;36m1\u001b[0m\u001b[1;33m]\u001b[0m\u001b[1;33m\u001b[0m\u001b[1;33m\u001b[0m\u001b[0m\n\u001b[0m",
      "\u001b[1;31mValueError\u001b[0m: 'Demographic:' is not in list"
     ]
    }
   ],
   "source": [
    "soup.select(\"div.detail\")[1].get_text().split(\"\\n\") [soup.select(\"div.detail\")[1].get_text().split(\"\\n\").index(\"Demographic:\" or \"Demographics:\") + 1]"
   ]
  },
  {
   "cell_type": "code",
   "execution_count": 81,
   "id": "96556e76-f1f3-4f41-9c54-9dc0baf32cc7",
   "metadata": {},
   "outputs": [
    {
     "name": "stdout",
     "output_type": "stream",
     "text": [
      "a\n"
     ]
    }
   ],
   "source": [
    "if any(\"Comedy\" in e for e in check_genres):\n",
    "    print(\"a\")"
   ]
  },
  {
   "cell_type": "code",
   "execution_count": 179,
   "id": "ba67c793-fb03-496e-993f-9ed3a4333135",
   "metadata": {},
   "outputs": [
    {
     "name": "stdout",
     "output_type": "stream",
     "text": [
      "A\n"
     ]
    }
   ],
   "source": [
    "if 16468 or 46846 in check_genres:\n",
    "    print(\"A\")"
   ]
  },
  {
   "cell_type": "code",
   "execution_count": 84,
   "id": "f869654b-1025-4cf4-bc13-152698280374",
   "metadata": {},
   "outputs": [
    {
     "name": "stdout",
     "output_type": "stream",
     "text": [
      "€10.99 Preview\n"
     ]
    }
   ],
   "source": [
    "if any(\"Comedy\" in i for i in soup.select(\"div.detail\")[8].get_text().split(\"\\n\")):\n",
    "    print(i)"
   ]
  },
  {
   "cell_type": "code",
   "execution_count": 92,
   "id": "7b999b88-bbfc-48e2-9dc5-9ba3a412a2d0",
   "metadata": {},
   "outputs": [
    {
     "data": {
      "text/plain": [
       "False"
      ]
     },
     "execution_count": 92,
     "metadata": {},
     "output_type": "execute_result"
    }
   ],
   "source": [
    "prueba = np.array(soup.select(\"div.detail\")[8].get_text().split(\"\\n\"))\n",
    "\"Comedy\" in prueba"
   ]
  },
  {
   "cell_type": "code",
   "execution_count": 211,
   "id": "43b94f1e-3751-4f57-a070-59b734147fb3",
   "metadata": {},
   "outputs": [
    {
     "name": "stdout",
     "output_type": "stream",
     "text": [
      "              Comedy,       Slice of Life\n",
      "              Comedy,       Slice of Life\n"
     ]
    }
   ],
   "source": [
    "a = []\n",
    "for i in soup.select(\"div.detail\")[8].get_text().split(\"\\n\"):\n",
    "    for e in check_genres:\n",
    "        if e in i:\n",
    "            print(i)"
   ]
  },
  {
   "cell_type": "code",
   "execution_count": 182,
   "id": "ea26efa6-9fb9-4a8b-981e-03e820c16582",
   "metadata": {},
   "outputs": [
    {
     "name": "stdout",
     "output_type": "stream",
     "text": [
      "A\n"
     ]
    }
   ],
   "source": [
    "some_list = ['abc-123', 'def-456', 'ghi-789', 'abc-456']\n",
    "if any(\"abc\" in s for s in some_list):\n",
    "    print(\"A\")"
   ]
  },
  {
   "cell_type": "code",
   "execution_count": 93,
   "id": "11009397-2d27-4e12-9839-80477bcea7c6",
   "metadata": {
    "tags": []
   },
   "outputs": [
    {
     "ename": "TypeError",
     "evalue": "'in <string>' requires string as left operand, not list",
     "output_type": "error",
     "traceback": [
      "\u001b[1;31m---------------------------------------------------------------------------\u001b[0m",
      "\u001b[1;31mTypeError\u001b[0m                                 Traceback (most recent call last)",
      "\u001b[1;32m~\\AppData\\Local\\Temp/ipykernel_8540/71843477.py\u001b[0m in \u001b[0;36m<module>\u001b[1;34m\u001b[0m\n\u001b[1;32m----> 1\u001b[1;33m \u001b[1;33m[\u001b[0m\u001b[0mi\u001b[0m \u001b[1;32mfor\u001b[0m \u001b[0mi\u001b[0m \u001b[1;32min\u001b[0m \u001b[0msoup\u001b[0m\u001b[1;33m.\u001b[0m\u001b[0mselect\u001b[0m\u001b[1;33m(\u001b[0m\u001b[1;34m\"div.detail\"\u001b[0m\u001b[1;33m)\u001b[0m\u001b[1;33m[\u001b[0m\u001b[1;36m8\u001b[0m\u001b[1;33m]\u001b[0m\u001b[1;33m.\u001b[0m\u001b[0mget_text\u001b[0m\u001b[1;33m(\u001b[0m\u001b[1;33m)\u001b[0m\u001b[1;33m.\u001b[0m\u001b[0msplit\u001b[0m\u001b[1;33m(\u001b[0m\u001b[1;34m\"\\n\"\u001b[0m\u001b[1;33m)\u001b[0m \u001b[1;32mif\u001b[0m \u001b[0mcheck_genres\u001b[0m \u001b[1;32min\u001b[0m \u001b[0mi\u001b[0m\u001b[1;33m]\u001b[0m\u001b[1;33m\u001b[0m\u001b[1;33m\u001b[0m\u001b[0m\n\u001b[0m",
      "\u001b[1;32m~\\AppData\\Local\\Temp/ipykernel_8540/71843477.py\u001b[0m in \u001b[0;36m<listcomp>\u001b[1;34m(.0)\u001b[0m\n\u001b[1;32m----> 1\u001b[1;33m \u001b[1;33m[\u001b[0m\u001b[0mi\u001b[0m \u001b[1;32mfor\u001b[0m \u001b[0mi\u001b[0m \u001b[1;32min\u001b[0m \u001b[0msoup\u001b[0m\u001b[1;33m.\u001b[0m\u001b[0mselect\u001b[0m\u001b[1;33m(\u001b[0m\u001b[1;34m\"div.detail\"\u001b[0m\u001b[1;33m)\u001b[0m\u001b[1;33m[\u001b[0m\u001b[1;36m8\u001b[0m\u001b[1;33m]\u001b[0m\u001b[1;33m.\u001b[0m\u001b[0mget_text\u001b[0m\u001b[1;33m(\u001b[0m\u001b[1;33m)\u001b[0m\u001b[1;33m.\u001b[0m\u001b[0msplit\u001b[0m\u001b[1;33m(\u001b[0m\u001b[1;34m\"\\n\"\u001b[0m\u001b[1;33m)\u001b[0m \u001b[1;32mif\u001b[0m \u001b[0mcheck_genres\u001b[0m \u001b[1;32min\u001b[0m \u001b[0mi\u001b[0m\u001b[1;33m]\u001b[0m\u001b[1;33m\u001b[0m\u001b[1;33m\u001b[0m\u001b[0m\n\u001b[0m",
      "\u001b[1;31mTypeError\u001b[0m: 'in <string>' requires string as left operand, not list"
     ]
    }
   ],
   "source": [
    "[i for i in soup.select(\"div.detail\")[8].get_text().split(\"\\n\") if check_genres in i]"
   ]
  },
  {
   "cell_type": "markdown",
   "id": "8b0898a6-5dff-4a12-a808-5c050c4ed629",
   "metadata": {},
   "source": [
    "---"
   ]
  },
  {
   "cell_type": "markdown",
   "id": "4a00e378-4e76-4c7c-a059-93e30b2c9e72",
   "metadata": {},
   "source": [
    "---"
   ]
  },
  {
   "cell_type": "markdown",
   "id": "777da959-e42b-4f4c-b374-2d330d2cf163",
   "metadata": {},
   "source": [
    "---"
   ]
  },
  {
   "cell_type": "code",
   "execution_count": null,
   "id": "ea5400d2-444d-44c6-9461-f44cf0bece03",
   "metadata": {},
   "outputs": [
    {
     "data": {
      "text/plain": [
       "0    lama\n",
       "1     cow\n",
       "2    lama\n",
       "4    lama\n",
       "Name: animal, dtype: object"
      ]
     },
     "execution_count": 186,
     "metadata": {},
     "output_type": "execute_result"
    }
   ],
   "source": [
    "s = pd.Series(['lama', 'cow', 'lama', 'beetle', 'lama',\n",
    "               'hippo'], name='animal')\n",
    "s[s.isin(['cow', 'lama'])]"
   ]
  },
  {
   "cell_type": "code",
   "execution_count": 149,
   "id": "dd24da50-473a-4d6a-80da-2823950738bf",
   "metadata": {},
   "outputs": [
    {
     "data": {
      "text/plain": [
       "'Action,Adventure,Award Winning,Drama,Fantasy,Horror,Supernatural'"
      ]
     },
     "execution_count": 149,
     "metadata": {},
     "output_type": "execute_result"
    }
   ],
   "source": [
    "\",\".join(pd.Series(soup.select(\"div.detail\")[0].get_text().split(\"\\n\")[13].split(\",\")).str.strip().to_list())"
   ]
  },
  {
   "cell_type": "code",
   "execution_count": null,
   "id": "a3e1140e-e70f-4ec5-a54a-b9d9abeae9b8",
   "metadata": {},
   "outputs": [],
   "source": [
    "a = [\"aaa\", \"abc\", \"ac]"
   ]
  },
  {
   "cell_type": "code",
   "execution_count": 253,
   "id": "09ef4076-8e68-4e2f-9394-2967d493870d",
   "metadata": {},
   "outputs": [
    {
     "data": {
      "text/plain": [
       "True"
      ]
     },
     "execution_count": 253,
     "metadata": {},
     "output_type": "execute_result"
    }
   ],
   "source": [
    "\"sdnfksjdn\".startswith(\"s\")"
   ]
  }
 ],
 "metadata": {
  "kernelspec": {
   "display_name": "Python 3 (ipykernel)",
   "language": "python",
   "name": "python3"
  },
  "language_info": {
   "codemirror_mode": {
    "name": "ipython",
    "version": 3
   },
   "file_extension": ".py",
   "mimetype": "text/x-python",
   "name": "python",
   "nbconvert_exporter": "python",
   "pygments_lexer": "ipython3",
   "version": "3.9.7"
  }
 },
 "nbformat": 4,
 "nbformat_minor": 5
}
